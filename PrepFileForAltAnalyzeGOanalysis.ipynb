{
 "cells": [
  {
   "cell_type": "code",
   "execution_count": 36,
   "metadata": {},
   "outputs": [],
   "source": [
    "# Import required packages\n",
    "import pandas \n",
    "import os\n",
    "import glob \n",
    "from glob import iglob\n",
    "import re"
   ]
  },
  {
   "cell_type": "code",
   "execution_count": 37,
   "metadata": {},
   "outputs": [],
   "source": [
    "path = \"/Users/sha6hg/Desktop/Kentaro_RNAseq_EndothelialAnalysis/Endothelial/GeneOntologyAnalysis/EndothelialCells_MGIBatchReport_ByCluster\""
   ]
  },
  {
   "cell_type": "code",
   "execution_count": 43,
   "metadata": {},
   "outputs": [],
   "source": [
    "output_dir = path + \"/Output\"\n",
    "os.mkdir(output_dir)\n",
    "os.chdir(path)\n",
    "for file in iglob(\"EndothelialCells_*.txt\"):\n",
    "    os.chdir(path)\n",
    "    df1 = pandas.read_csv(file, sep = \"\\t\", header = 0)\n",
    "    df2 = pandas.DataFrame()\n",
    "    df2[\"Source Identifier\"] = df1[\"Input\"]\n",
    "    df2[\"SystemCode\"] = \"XY\"\n",
    "    regex = re.compile(r'\\d+')\n",
    "    number = regex.findall(file)\n",
    "    filename = \"c\" + str(number[0]) + \".txt\"\n",
    "    os.chdir(output_dir)\n",
    "    df2.to_csv(filename, header = True, index = False, sep = \"\\t\")"
   ]
  },
  {
   "cell_type": "code",
   "execution_count": null,
   "metadata": {},
   "outputs": [],
   "source": []
  }
 ],
 "metadata": {
  "kernelspec": {
   "display_name": "Python 3",
   "language": "python",
   "name": "python3"
  },
  "language_info": {
   "codemirror_mode": {
    "name": "ipython",
    "version": 3
   },
   "file_extension": ".py",
   "mimetype": "text/x-python",
   "name": "python",
   "nbconvert_exporter": "python",
   "pygments_lexer": "ipython3",
   "version": "3.7.3"
  }
 },
 "nbformat": 4,
 "nbformat_minor": 2
}
