{
 "cells": [
  {
   "cell_type": "code",
   "execution_count": 70,
   "metadata": {},
   "outputs": [],
   "source": [
    "# Import required modules\n",
    "# To install pandas type:\n",
    "# python3.7 -m pip install pandas\n",
    "# In case you do not have pip installed(Google and install it!)\n",
    "import pandas\n",
    "import os\n",
    "import numpy"
   ]
  },
  {
   "cell_type": "code",
   "execution_count": 156,
   "metadata": {},
   "outputs": [],
   "source": [
    "# Read Input Files\n",
    "# file1: Excel sheet with Diseases as Column Headers containing relevant SNPs\n",
    "# file2: Excel sheet with CellLines as Column Headers and Rows as SNPs\n",
    "\n",
    "# Defining a Function for taking input\n",
    "def user_input():\n",
    "    # Check for correct path and existence of Directory\n",
    "    pwd = input(\"Enter the path to work directory: \")\n",
    "    assert (os.path.exists(pwd)), \"This path does not exist.\" \n",
    "    assert (os.path.isdir(pwd)), \"This is not a directory.\"\n",
    "    os.chdir(pwd)\n",
    "    file1 = input(\"Enter the excel file with Conditions and SNPs: \")\n",
    "    assert (os.path.isfile(file1)), \"This file does not exist.\"\n",
    "    file2 = input(\"Enter the excel file with SNP Array Data for each Cell Line: \")\n",
    "    assert (os.path.isfile(file2)), \"This file does not exist.\"\n",
    "    return (pwd, file1, file2)"
   ]
  },
  {
   "cell_type": "code",
   "execution_count": 157,
   "metadata": {},
   "outputs": [],
   "source": [
    "#Defining a function to take file1 and file2 to get excel file containing each cell line for each disease for each SNP\n",
    "def files_process(input_list):\n",
    "    pwd = input_list[0]\n",
    "    file1 = input_list[1]\n",
    "    file2 = input_list[2]\n",
    "    dfa = pandas.read_excel(file1, header = 0)\n",
    "    print(\"File1 has been read.\")\n",
    "    dfb = pandas.read_excel(file2, header = 0)\n",
    "    print(\"File2 has been read.\")\n",
    "    dfb = dfb.set_index(\"Sample_ID\")\n",
    "    \n",
    "    # Create a list with all the snps from all the conditions\n",
    "    conditions_list = dfa.columns\n",
    "    snp_list = []\n",
    "    for i in conditions_list:\n",
    "        snp_list = snp_list + (dfa[i].tolist())\n",
    "    # Remove NaN from the list and sort it\n",
    "    snp_list = [snp_list for snp_list in snp_list if str(snp_list) != 'nan']\n",
    "    snp_list1 = sorted(list(set(snp_list)))\n",
    "    # Create a dataframe with all the snps from all the conditions\n",
    "    dfb1 = dfb[dfb.index.isin(snp_list1)]\n",
    "\n",
    "    # Create empty dataframe for populating snps for each condition and each cell line \n",
    "    dfa_colnames = list(dfa.columns)\n",
    "    df1 = pandas.DataFrame()\n",
    "    df1[\"Sample_ID\"] = dfb1.index\n",
    "    df1 = df1.set_index(\"Sample_ID\")\n",
    "    for cellLine in dfb.columns:\n",
    "        df_cell = dfb[cellLine]\n",
    "        for condition in dfa_colnames:\n",
    "            cond_list = list(dfa[condition])\n",
    "            cond_list = [cond_list for cond_list in cond_list if str(cond_list) != 'nan']\n",
    "            df_cell_cond = df_cell[df_cell.index.isin(cond_list)]\n",
    "            colname = str(str(cellLine) + \"_\" + str(condition))\n",
    "            df1[colname] = df_cell_cond\n",
    "    \n",
    "    # Create a list for Multi-level columns\n",
    "    cellLines = list(dfb1.columns)\n",
    "    conditions = list(dfa.columns)\n",
    "    list1 = []\n",
    "    for i in range(0, len(cellLines)):\n",
    "        for a in range(0,3):\n",
    "            list1.append(i) \n",
    "    list2 = []\n",
    "    for i in range(0, len(cellLines)):\n",
    "        for a in [0,1,2]:\n",
    "            list2.append(a) \n",
    "\n",
    "    # Rename the columns for Multiple levels        \n",
    "    colnames = pandas.MultiIndex(levels = [cellLines, conditions], codes = [list1, list2])\n",
    "    # Remove NaN and \"AA\" from the dataframe\n",
    "    df2 = df1.replace(to_replace = \"AA\", value = \"\")\n",
    "    df3 = df2.replace(to_replace = numpy.nan, value = \"\", regex = True)\n",
    "    df3.columns = colnames\n",
    "    return df3"
   ]
  },
  {
   "cell_type": "code",
   "execution_count": 159,
   "metadata": {},
   "outputs": [],
   "source": [
    "# define a function to take a pandas dataframe and write it to an excel file\n",
    "def write_to_excel(input_df):\n",
    "    df1 = input_df\n",
    "    output_file = input(\"Name of the Output File:\")\n",
    "    output_filename = str(output_file) + \".xlsx\"\n",
    "    df1.to_excel(output_filename, header = True, index = True)\n",
    "    print(\"The output file is ready.\")"
   ]
  },
  {
   "cell_type": "code",
   "execution_count": 160,
   "metadata": {
    "collapsed": true
   },
   "outputs": [
    {
     "name": "stdout",
     "output_type": "stream",
     "text": [
      "Enter the path to work directory: /Users/sha6hg/Desktop/HasanSNPanalysis\n",
      "Enter the excel file with Conditions and SNPs: /Users/sha6hg/Desktop/HasanSNPanalysis/SNPs from dB.xlsx\n",
      "Enter the excel file with SNP Array Data for each Cell Line: /Users/sha6hg/Desktop/HasanSNPanalysis/#001 GenomeStudioReport_DNACore_withTkDa-1_v1.4_and_withCCHMC003_v1.xlsx\n",
      "File1 has been read.\n",
      "File2 has been read.\n",
      "The output file is ready.\n"
     ]
    }
   ],
   "source": [
    "# Call the functions\n",
    "write_to_excel(files_process(user_input()))"
   ]
  },
  {
   "cell_type": "code",
   "execution_count": null,
   "metadata": {},
   "outputs": [],
   "source": [
    "# Trial files\n",
    "/Users/sha6hg/Desktop/HasanSNPanalysis\n",
    "/Users/sha6hg/Desktop/HasanSNPanalysis/SNPs from dB.xlsx\n",
    "/Users/sha6hg/Desktop/HasanSNPanalysis/#001 GenomeStudioReport_DNACore_withTkDa-1_v1.4_and_withCCHMC003_v1.xlsx"
   ]
  }
 ],
 "metadata": {
  "celltoolbar": "Tags",
  "kernelspec": {
   "display_name": "Python 3",
   "language": "python",
   "name": "python3"
  },
  "language_info": {
   "codemirror_mode": {
    "name": "ipython",
    "version": 3
   },
   "file_extension": ".py",
   "mimetype": "text/x-python",
   "name": "python",
   "nbconvert_exporter": "python",
   "pygments_lexer": "ipython3",
   "version": "3.7.3"
  }
 },
 "nbformat": 4,
 "nbformat_minor": 2
}
