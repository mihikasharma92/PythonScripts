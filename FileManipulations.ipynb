{
 "cells": [
  {
   "cell_type": "code",
   "execution_count": 2,
   "metadata": {},
   "outputs": [],
   "source": [
    "# Import required modules\n",
    "import pandas as pd\n",
    "import os\n",
    "import shutil"
   ]
  },
  {
   "cell_type": "code",
   "execution_count": 7,
   "metadata": {},
   "outputs": [],
   "source": [
    "# Copy contents of one folder to another and rename all the files\n",
    "shutil.copytree(\"/Users/sha6hg/Desktop/COVID19Ferret/Ferret\", \"/Users/sha6hg/Desktop/COVID19Ferret/Mouse\")\n",
    "os.chdir(\"/Users/sha6hg/Desktop/COVID19Ferret/Mouse\")\n",
    "\n",
    "# Rename all the files in new folder\n",
    "file_list = os.listdir(\"/Users/sha6hg/Desktop/COVID19Ferret/Mouse\")\n",
    "for file in file_list:\n",
    "    x = file.split(\".\", 1)[1]\n",
    "    filename1 = \"mouse.\" + x\n",
    "    #path = \"/Users/sha6hg/Desktop/COVID19Ferret/Mouse/\"\n",
    "    #filename = path + filename1\n",
    "    os.rename(file, filename1)"
   ]
  },
  {
   "cell_type": "code",
   "execution_count": 3,
   "metadata": {},
   "outputs": [],
   "source": [
    "# Convert csv to tsv file\n",
    "file = \"/Users/sha6hg/Desktop/GSE150316/RawData/SraRunTable.txt\"\n",
    "df = pd.read_csv(file, sep = \",\", header = 0, index_col = 0)\n",
    "x = file.split(\".\", 1)[0]\n",
    "filename = x + \"_tabSeparated.txt\"\n",
    "df.to_csv(filename, sep = \"\\t\", header = True, index = True)"
   ]
  },
  {
   "cell_type": "code",
   "execution_count": null,
   "metadata": {},
   "outputs": [],
   "source": []
  }
 ],
 "metadata": {
  "kernelspec": {
   "display_name": "Python 3",
   "language": "python",
   "name": "python3"
  },
  "language_info": {
   "codemirror_mode": {
    "name": "ipython",
    "version": 3
   },
   "file_extension": ".py",
   "mimetype": "text/x-python",
   "name": "python",
   "nbconvert_exporter": "python",
   "pygments_lexer": "ipython3",
   "version": "3.7.1"
  }
 },
 "nbformat": 4,
 "nbformat_minor": 4
}
