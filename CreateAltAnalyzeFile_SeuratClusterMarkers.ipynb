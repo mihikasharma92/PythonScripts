{
 "cells": [
  {
   "cell_type": "code",
   "execution_count": 26,
   "metadata": {},
   "outputs": [],
   "source": [
    "# Import required packages\n",
    "import pandas \n",
    "import os\n",
    "import glob \n",
    "from glob import iglob\n",
    "import re"
   ]
  },
  {
   "cell_type": "code",
   "execution_count": 42,
   "metadata": {},
   "outputs": [],
   "source": [
    "path = \"/Users/sha6hg/Desktop/Kentaro_RNAseq_EndothelialAnalysis/RawData/CaoNature2019_scRNAseqData/Results\"\n",
    "file = \"Endothelial_Cao_Markers_allClusters_AfterCC.txt\""
   ]
  },
  {
   "cell_type": "code",
   "execution_count": 43,
   "metadata": {},
   "outputs": [],
   "source": [
    "output_dir1 = path + \"/GeneOntologyAnalysis\"\n",
    "os.mkdir(output_dir1)\n",
    "output_dir = output_dir1 + \"/Output\"\n",
    "os.mkdir(output_dir)\n",
    "os.chdir(path)\n",
    "df1 = pandas.read_csv(file, sep = \"\\t\", header = 0)\n",
    "clusters = set(df1[\"cluster\"])\n",
    "\n",
    "df3 = pandas.DataFrame()\n",
    "for i in clusters:\n",
    "    os.chdir(path)\n",
    "    df3 = pandas.DataFrame()\n",
    "    df2 = df1[df1[\"cluster\"] == i]\n",
    "    df3[\"Source Identifier\"] = df2[\"gene\"]\n",
    "    df3[\"SystemCode\"] = \"XY\"\n",
    "    os.chdir(output_dir)\n",
    "    filename = \"c\" + str(i) + \".txt\"\n",
    "    df3.to_csv(filename, header = True, index = False, sep = \"\\t\")"
   ]
  },
  {
   "cell_type": "code",
   "execution_count": null,
   "metadata": {},
   "outputs": [],
   "source": []
  }
 ],
 "metadata": {
  "kernelspec": {
   "display_name": "Python 3",
   "language": "python",
   "name": "python3"
  },
  "language_info": {
   "codemirror_mode": {
    "name": "ipython",
    "version": 3
   },
   "file_extension": ".py",
   "mimetype": "text/x-python",
   "name": "python",
   "nbconvert_exporter": "python",
   "pygments_lexer": "ipython3",
   "version": "3.7.3"
  }
 },
 "nbformat": 4,
 "nbformat_minor": 2
}
